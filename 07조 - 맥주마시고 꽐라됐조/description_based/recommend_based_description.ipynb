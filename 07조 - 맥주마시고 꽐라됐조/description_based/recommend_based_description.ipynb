{
 "cells": [
  {
   "cell_type": "code",
   "execution_count": 5,
   "metadata": {},
   "outputs": [],
   "source": [
    "import numpy as np\n",
    "import pandas as pd\n",
    "import pickle\n",
    "\n",
    "import torch"
   ]
  },
  {
   "cell_type": "code",
   "execution_count": 6,
   "metadata": {},
   "outputs": [],
   "source": [
    "with open('./data/beers_with_embedding.pkl', 'rb') as f:\n",
    "    beers = pickle.load(f)\n",
    "beers\n",
    "\n",
    "beers = beers.set_index('beer_name')"
   ]
  },
  {
   "cell_type": "code",
   "execution_count": 7,
   "metadata": {},
   "outputs": [],
   "source": [
    "def get_recommendations(name, n=3):\n",
    "\tglobal beers\n",
    "\tsource = beers.loc[name]\n",
    "\tcos = torch.nn.CosineSimilarity(dim=0)\n",
    "\tsimilarity = []\n",
    "\tfor beer in beers.index:\n",
    "\t\tsrc = torch.tensor(source['embedding'])\n",
    "\t\ttrg = torch.tensor(beers.loc[beer]['embedding'])\n",
    "\t\tsimilarity.append(cos(src,trg))\n",
    "\t_, topKIndex = torch.tensor(similarity).topk(n+1)\n",
    "\treturn beers.iloc[topKIndex[1:]]['beer_style']"
   ]
  },
  {
   "cell_type": "code",
   "execution_count": 8,
   "metadata": {},
   "outputs": [
    {
     "name": "stdout",
     "output_type": "stream",
     "text": [
      "American Double / Imperial Stout\n"
     ]
    },
    {
     "data": {
      "text/plain": [
       "beer_name\n",
       "Vienna Style Lager                                Vienna LagerVienna Lager\n",
       "Moose Drool Brown Ale                                   American Brown Ale\n",
       "Molson Golden                                          American Blonde Ale\n",
       "Fat Belly Amber                                   American Amber / Red Ale\n",
       "Vienna Lager             Vienna LagerVienna LagerVienna LagerVienna Lag...\n",
       "Peculiar                              English Strong AleEnglish Strong Ale\n",
       "Penn Gold                                              Munich Helles Lager\n",
       "Scotch Ale               Scottish AleScotch Ale / Wee HeavyScotch Ale /...\n",
       "Fearless Youth                                         Munich Dunkel Lager\n",
       "Hop Strike Black IPA                                    American Black Ale\n",
       "Name: beer_style, dtype: object"
      ]
     },
     "execution_count": 8,
     "metadata": {},
     "output_type": "execute_result"
    }
   ],
   "source": [
    "print(beers.loc['Old Viscosity']['beer_style'])\n",
    "\n",
    "get_recommendations('Old Viscosity', 10)"
   ]
  },
  {
   "cell_type": "markdown",
   "metadata": {},
   "source": [
    "**Stout 는 Ale 종류이고 추천한 맥주들은 Ale이 대다수이다.**"
   ]
  }
 ],
 "metadata": {
  "interpreter": {
   "hash": "af5f53ab177b1622a14324d8812e84f4794c66b055eb7150ff98cdbf615623fe"
  },
  "kernelspec": {
   "display_name": "Python 3.9.7 ('RecommenderSystem')",
   "language": "python",
   "name": "python3"
  },
  "language_info": {
   "codemirror_mode": {
    "name": "ipython",
    "version": 3
   },
   "file_extension": ".py",
   "mimetype": "text/x-python",
   "name": "python",
   "nbconvert_exporter": "python",
   "pygments_lexer": "ipython3",
   "version": "3.9.7"
  },
  "orig_nbformat": 4
 },
 "nbformat": 4,
 "nbformat_minor": 2
}
