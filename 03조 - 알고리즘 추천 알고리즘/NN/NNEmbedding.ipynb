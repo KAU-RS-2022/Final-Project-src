{
 "cells": [
  {
   "cell_type": "markdown",
   "metadata": {
    "id": "mOVEDOx59M6k"
   },
   "source": [
    "# NNEmbedding"
   ]
  },
  {
   "cell_type": "markdown",
   "metadata": {
    "id": "d6LyPynj9M6q"
   },
   "source": [
    "# Import Modules"
   ]
  },
  {
   "cell_type": "code",
   "execution_count": 82,
   "metadata": {
    "id": "vE86ZDaH9M6r"
   },
   "outputs": [],
   "source": [
    "import warnings, random\n",
    "import numpy as np\n",
    "import pandas as pd\n",
    "import torch\n",
    "from torch import nn\n",
    "from torch.utils.data import Dataset\n",
    "from torch.utils.data import DataLoader\n",
    "\n",
    "\n",
    "from itertools import permutations # For making pairs\n",
    "\n",
    "warnings.filterwarnings('ignore')"
   ]
  },
  {
   "cell_type": "markdown",
   "metadata": {
    "id": "TQshLjya9M6s"
   },
   "source": [
    "# Data loading"
   ]
  },
  {
   "cell_type": "code",
   "execution_count": 83,
   "metadata": {
    "id": "-s0JfV2h9M6t"
   },
   "outputs": [],
   "source": [
    "user_problem = pd.read_csv('./userId_problemId.csv', usecols=['userId', 'problemId', 'level', 'title'])\n",
    "problem_category = pd.read_csv('./problem_category.csv', usecols=['problemId', 'category']) # for title-matching"
   ]
  },
  {
   "cell_type": "code",
   "execution_count": 84,
   "metadata": {},
   "outputs": [
    {
     "name": "stdout",
     "output_type": "stream",
     "text": [
      "    userId  problemId  level      title\n",
      "0  sos0911       1000      1        A+B\n",
      "1  sos0911       1001      1        A-B\n",
      "2  sos0911       1002      7         터렛\n",
      "3  sos0911       1003      8    피보나치 함수\n",
      "4  sos0911       1005     13  ACM Craft\n",
      "   problemId        category\n",
      "0       1000      arithmetic\n",
      "1       1000  implementation\n",
      "2       1000            math\n",
      "3       1001      arithmetic\n",
      "4       1001  implementation\n"
     ]
    }
   ],
   "source": [
    "print(user_problem.head())\n",
    "print(problem_category.head())"
   ]
  },
  {
   "cell_type": "markdown",
   "metadata": {
    "id": "13ycfZcB9M6u"
   },
   "source": [
    "# Preprocessing data"
   ]
  },
  {
   "cell_type": "code",
   "execution_count": 85,
   "metadata": {},
   "outputs": [
    {
     "name": "stdout",
     "output_type": "stream",
     "text": [
      "(279500, 4)\n",
      "problem count: 2755\n"
     ]
    }
   ],
   "source": [
    "#문제 level 10 이상만 사용 (브론즈, 실버 문제 사용 x, 골드 이상만 사용)\n",
    "user_problem = user_problem[user_problem['level'] > 10]\n",
    "\n",
    "#실제로 유저가 푼 문제의 목록화(골드 이상 문제)\n",
    "unique_problem = user_problem['problemId'].unique()\n",
    "\n",
    "#푼 문제 개수\n",
    "problem_size=len(unique_problem)\n",
    "print(user_problem.shape)\n",
    "print(\"problem count:\", problem_size)\n",
    "\n",
    "#골드 이상의 문제들 빼고는 다 드랍\n",
    "problem_category = problem_category[problem_category['problemId'].isin(unique_problem)]"
   ]
  },
  {
   "cell_type": "code",
   "execution_count": 87,
   "metadata": {
    "id": "3pr3sqOj9M6v",
    "scrolled": true
   },
   "outputs": [],
   "source": [
    "#problems = selected_problems['problemId'].unique()\n",
    "selected_problems = user_problem\n",
    "\n",
    "#user별로 저장\n",
    "users = dict()\n",
    "users_pairs = dict()\n",
    "\n",
    "cur_user = -1\n",
    "user_prob = []\n",
    "for row in selected_problems.itertuples():\n",
    "    if cur_user != row.userId and cur_user != -1:\n",
    "        users[cur_user] = user_prob\n",
    "        user_prob = [row.problemId]\n",
    "    else :\n",
    "        user_prob.append(row.problemId)\n",
    "    cur_user = row.userId\n",
    "users[cur_user] = user_prob\n",
    "\n",
    "#5%만 shuffle 후 사용\n",
    "# for i in users.keys():\n",
    "#     random.shuffle(users[i])\n",
    "#     users[i] = users[i][0:len(users[i])*5//100]\n",
    "\n",
    "# accuracy를 위한 pair 생성 키-problemId 값-[problemId로 예측하면 나와도 되는 결과problemId들]\n",
    "accuracy_pair = dict()\n",
    "for i in users.keys():\n",
    "    for k in range(len(users[i])):\n",
    "        if  users[i][k] in accuracy_pair:\n",
    "            accuracy_pair[users[i][k]] = accuracy_pair[users[i][k]] + users[i][:k]+users[i][k+1:]\n",
    "        else:\n",
    "            accuracy_pair[users[i][k]] = users[i][:k]+users[i][k+1:]\n",
    "\n",
    "#중복 쌍 제거\n",
    "for i in accuracy_pair.keys():\n",
    "    accuracy_pair[i] = np.unique(accuracy_pair[i])\n",
    "    \n",
    "#pair 생성\n",
    "for i in users.keys():\n",
    "    users_pairs[i] = torch.combinations(torch.tensor(np.unique(users[i])))\n",
    "\n",
    "#pair쌍 합치기\n",
    "problem_pairs = torch.tensor([])\n",
    "for i in users_pairs.keys():\n",
    "    problem_pairs = torch.cat((problem_pairs, users_pairs[i]), dim=0)\n",
    "\n",
    "#pair의 반대 부분도 만들기\n",
    "problem_pairs = torch.cat((problem_pairs, torch.flip(problem_pairs, dims=[0, 1])), dim=0)\n",
    "\n",
    "#shuffle\n",
    "random.shuffle(problem_pairs)"
   ]
  },
  {
   "cell_type": "code",
   "execution_count": 88,
   "metadata": {},
   "outputs": [
    {
     "name": "stdout",
     "output_type": "stream",
     "text": [
      "torch.Size([80862, 2])\n"
     ]
    }
   ],
   "source": [
    "print(problem_pairs.shape)"
   ]
  },
  {
   "cell_type": "markdown",
   "metadata": {
    "id": "IglRLgHH9M6v"
   },
   "source": [
    "# Build and train neural networks"
   ]
  },
  {
   "cell_type": "code",
   "execution_count": 89,
   "metadata": {
    "id": "LbbWWe3A9M6w"
   },
   "outputs": [],
   "source": [
    "#training set, test set분리\n",
    "train_set = problem_pairs[:len(problem_pairs)//10*9]\n",
    "test_set = problem_pairs[len(problem_pairs)//10*9:]\n",
    "\n",
    "#one hot encoding\n",
    "oneHot = pd.get_dummies(problems)\n",
    "\n",
    "#gpu 사용을 위해 cuda\n",
    "torch.cuda.empty_cache()\n",
    "device = \"cuda\" if torch.cuda.is_available() else \"cpu\"\n",
    "cuda = torch.device(device)"
   ]
  },
  {
   "cell_type": "code",
   "execution_count": 90,
   "metadata": {},
   "outputs": [],
   "source": [
    "#problem id와 one hot mapping할 dict만들기\n",
    "problem_map = dict()\n",
    "problem_index_to_id = dict()\n",
    "index = 0\n",
    "for i in sorted(problems):\n",
    "    problem_map[i] = index\n",
    "    problem_index_to_id[index] = i\n",
    "    index += 1"
   ]
  },
  {
   "cell_type": "code",
   "execution_count": 91,
   "metadata": {
    "id": "GBsN2Y3_9M6x"
   },
   "outputs": [],
   "source": [
    "#Custom Dataset\n",
    "class CustomDataset(Dataset):\n",
    "    def __init__(self, raw_data):\n",
    "        self.problems = raw_data\n",
    "\n",
    "    def __len__(self):\n",
    "        return len(self.problems)\n",
    "\n",
    "    def __getitem__(self, idx):\n",
    "        return torch.tensor(oneHot[self.problems[idx][0].item()], dtype=torch.float32, device=cuda), torch.tensor(problem_map[self.problems[idx][1].item()], device=cuda), self.problems[idx][0].item()"
   ]
  },
  {
   "cell_type": "code",
   "execution_count": 92,
   "metadata": {
    "id": "SUBPlHjV9M6x"
   },
   "outputs": [],
   "source": [
    "#model 생성\n",
    "class EmbeddingModel(nn.Module):\n",
    "    def __init__(self):\n",
    "        super(EmbeddingModel, self).__init__()\n",
    "        self.linear_relu_stack = nn.Sequential(\n",
    "            nn.Linear(oneHot.shape[0], 40),\n",
    "            nn.ReLU(),\n",
    "            nn.Linear(40, oneHot.shape[0]),\n",
    "        )\n",
    "        \n",
    "    def forward(self, x):\n",
    "        logits = self.linear_relu_stack(x)\n",
    "        return logits"
   ]
  },
  {
   "cell_type": "code",
   "execution_count": 93,
   "metadata": {
    "id": "j6VVhxlM9M6y"
   },
   "outputs": [],
   "source": [
    "def train_loop(dataloader, model, loss_fn, optimizer):\n",
    "    size = len(dataloader.dataset)\n",
    "    for batch, (X, y, pId) in enumerate(dataloader):\n",
    "        # 예측(prediction)과 손실(loss) 계산\n",
    "        pred = model(X)\n",
    "        loss = loss_fn(pred, y)\n",
    "\n",
    "        # 역전파\n",
    "        optimizer.zero_grad()\n",
    "        loss.backward()\n",
    "        optimizer.step()\n",
    "\n",
    "        if batch % 100 == 0:\n",
    "            loss, current = loss.item(), batch * len(X)\n",
    "            print(f\"loss: {loss:>7f}  [{current:>5d}/{size:>5d}]\")\n",
    "\n",
    "\n",
    "def test_loop(dataloader, model, loss_fn):\n",
    "    size = len(dataloader.dataset)\n",
    "    num_batches = len(dataloader)\n",
    "    test_loss, correct = 0, 0\n",
    "\n",
    "    with torch.no_grad():\n",
    "        for X, y, pId in dataloader:\n",
    "            pred = model(X)\n",
    "            test_loss += loss_fn(pred, y).item()\n",
    "            pred_pid = pred.argmax(dim=1)\n",
    "            \n",
    "            for i in range(len(pId)):\n",
    "                #pred_pid는 index이기 때문에 다시 문제 id로 변환 해줘야 함.\n",
    "                correct += int(problem_index_to_id[pred_pid[i].item()] in accuracy_pair[int(pId[i])])\n",
    "\n",
    "    test_loss /= num_batches\n",
    "    correct /= size\n",
    "    print(f\"Test Error: \\n Accuracy: {(100*correct):>0.1f}%, Avg loss: {test_loss:>8f} \\n\")"
   ]
  },
  {
   "cell_type": "code",
   "execution_count": 74,
   "metadata": {
    "colab": {
     "base_uri": "https://localhost:8080/",
     "height": 245
    },
    "id": "-Yj5jZyl9M6z",
    "outputId": "7312d69c-c6a4-4bfc-a5d8-3b7ae052786c",
    "scrolled": true
   },
   "outputs": [
    {
     "name": "stdout",
     "output_type": "stream",
     "text": [
      "Epoch 1\n",
      "-------------------------------\n",
      "loss: 7.920122  [    0/72774]\n",
      "loss: 6.542366  [25600/72774]\n",
      "loss: 6.455229  [51200/72774]\n",
      "Test Error: \n",
      " Accuracy: 72.7%, Avg loss: 6.447895 \n",
      "\n",
      "Epoch 2\n",
      "-------------------------------\n",
      "loss: 6.155046  [    0/72774]\n",
      "loss: 5.889677  [25600/72774]\n",
      "loss: 6.049175  [51200/72774]\n",
      "Test Error: \n",
      " Accuracy: 88.9%, Avg loss: 6.350933 \n",
      "\n",
      "Epoch 3\n",
      "-------------------------------\n",
      "loss: 4.660985  [    0/72774]\n",
      "loss: 5.307161  [25600/72774]\n",
      "loss: 5.758096  [51200/72774]\n",
      "Test Error: \n",
      " Accuracy: 92.9%, Avg loss: 6.356423 \n",
      "\n",
      "Epoch 4\n",
      "-------------------------------\n",
      "loss: 4.234782  [    0/72774]\n",
      "loss: 5.052154  [25600/72774]\n",
      "loss: 5.582673  [51200/72774]\n",
      "Test Error: \n",
      " Accuracy: 93.4%, Avg loss: 6.386062 \n",
      "\n",
      "Epoch 5\n",
      "-------------------------------\n",
      "loss: 4.120868  [    0/72774]\n",
      "loss: 4.948657  [25600/72774]\n",
      "loss: 5.479917  [51200/72774]\n",
      "Test Error: \n",
      " Accuracy: 93.8%, Avg loss: 6.421243 \n",
      "\n",
      "Done!\n"
     ]
    }
   ],
   "source": [
    "model = EmbeddingModel().cuda()\n",
    "\n",
    "# 파라미터 설정\n",
    "learning_rate = 0.01\n",
    "beta1 = 0.9\n",
    "beta2 = 0.999\n",
    "batch_size = 256\n",
    "epochs = 5\n",
    "# 옵티마이저 초기화\n",
    "optimizer = torch.optim.Adam(model.parameters(), lr=learning_rate, betas=(beta1, beta2))\n",
    "#loss 초기화\n",
    "loss_fn = nn.CrossEntropyLoss()\n",
    "#기존에는 batch size = 64\n",
    "train_dataloader = DataLoader(CustomDataset(train_set.to(device=cuda)), batch_size=batch_size, shuffle=False)\n",
    "test_dataloader = DataLoader(CustomDataset(test_set.to(device=cuda)), batch_size=batch_size, shuffle=False)\n",
    "\n",
    "#학습\n",
    "for t in range(epochs):\n",
    "    print(f\"Epoch {t+1}\\n-------------------------------\")\n",
    "    train_loop(train_dataloader, model, loss_fn, optimizer)\n",
    "    test_loop(test_dataloader, model, loss_fn)\n",
    "print(\"Done!\")"
   ]
  },
  {
   "cell_type": "markdown",
   "metadata": {
    "id": "6MyOWeqT9M61"
   },
   "source": [
    "# Recommend Problem"
   ]
  },
  {
   "cell_type": "code",
   "execution_count": 75,
   "metadata": {},
   "outputs": [
    {
     "name": "stdout",
     "output_type": "stream",
     "text": [
      "  problemId                        category\n",
      "0      1005  /dp/graphs/topological_sorting\n",
      "1      1006                              dp\n",
      "2      1007               bruteforcing/math\n",
      "3      1011                            math\n",
      "4      1013                    regex/string\n"
     ]
    }
   ],
   "source": [
    "#category 합치기\n",
    "categories = pd.DataFrame(columns = ['problemId', 'category'])\n",
    "category_sum = \"\"\n",
    "cur_problem = -1\n",
    "for row in problem_category.itertuples():\n",
    "    if cur_problem != row.problemId and cur_problem != -1:\n",
    "        categories = categories.append({'problemId': cur_problem, 'category': category_sum}, ignore_index=True)\n",
    "        category_sum = row.category\n",
    "    else:\n",
    "        category_sum = category_sum + \"/\" + str.strip(row.category)\n",
    "    cur_problem = row.problemId\n",
    "categories = categories.append({'problemId': row.problemId, 'category': category_sum}, ignore_index=True)\n",
    "print(categories.head())\n",
    "#join\n",
    "total_info = user_problem.join(categories.set_index('problemId'), on='problemId')\n",
    "total_info.head()\n",
    "\n",
    "#문제 정보 매핑용\n",
    "problem_info = dict()\n",
    "currentProblemId = -1\n",
    "for row in total_info.itertuples():\n",
    "    if not row.problemId in problem_info.keys():\n",
    "        problem_info[row.problemId] = (row.title, row.category, row.level)\n",
    "        currentProblemId = row.problemId"
   ]
  },
  {
   "cell_type": "code",
   "execution_count": 76,
   "metadata": {},
   "outputs": [],
   "source": [
    "#cosine 유사도를 사용하여 풀지않은 상위 몇개의 문제를 추천\n",
    "def recommendProblem(user_id, user_embedding, problem_embedding, problem_list, recommend_count = 5):\n",
    "    print('user {0}'.format(user_id))\n",
    "    cos = nn.CosineSimilarity(dim=0, eps=1e-6)\n",
    "    res = []\n",
    "    for i in problem_embedding.keys():\n",
    "        if not i in problem_list:\n",
    "            res.append((cos(problem_embedding[i], user_embedding[user_id]), i, problem_info[i][0], problem_info[i][1], problem_info[i][2]))\n",
    "    res = sorted(res, reverse=True)[0:recommend_count]\n",
    "    \n",
    "    length = recommend_count if len(res) > recommend_count else len(res)\n",
    "    for i in range(length):\n",
    "        print('problemId: {0}, title: {1}, category: {2}, level: {3}, Similarity: {4:0.4f}'.format(res[i][1], res[i][2], res[i][3], res[i][4], res[i][0]))\n",
    "    print(\"\")\n",
    "    \n",
    "    return res"
   ]
  },
  {
   "cell_type": "code",
   "execution_count": 77,
   "metadata": {},
   "outputs": [],
   "source": [
    "#각 영화별로 embedding 생성\n",
    "problem_embedding = dict()\n",
    "for param in model.parameters():\n",
    "    for i in range(param.shape[1]):\n",
    "        problem_embedding[problem_index_to_id[i]] = param[:,i]\n",
    "    break"
   ]
  },
  {
   "cell_type": "code",
   "execution_count": 80,
   "metadata": {},
   "outputs": [],
   "source": [
    "#사용자에 대한 embedding 생성\n",
    "user_embedding = dict()\n",
    "for i in users.keys():\n",
    "    user_embedding[i] = torch.tensor(np.zeros(len(problem_embedding[1005])), device=cuda)\n",
    "    for k in users[i]:\n",
    "        user_embedding[i] += problem_embedding[k]\n",
    "    user_embedding[i] /= len(users[i])"
   ]
  },
  {
   "cell_type": "code",
   "execution_count": 81,
   "metadata": {
    "scrolled": true
   },
   "outputs": [
    {
     "name": "stdout",
     "output_type": "stream",
     "text": [
      "user sos0911\n",
      "problemId: 11056, title: 두 부분 문자열, category: dp/string, level: 12, Similarity: 0.5527\n",
      "problemId: 1240, title: 노드사이의 거리, category: bfs/dfs/graph_traversal/graphs/trees, level: 11, Similarity: 0.5485\n",
      "problemId: 1028, title: 다이아몬드 광산, category: dp, level: 16, Similarity: 0.4819\n",
      "problemId: 1041, title: 주사위, category: greedy/math, level: 11, Similarity: 0.4808\n",
      "problemId: 15644, title: 구슬 탈출 3, category: bfs/graph_traversal/graphs/implementation/simulation, level: 15, Similarity: 0.4791\n",
      "\n",
      "user dnfl182\n",
      "problemId: 2931, title: 가스관, category: implementation/simulation, level: 13, Similarity: 0.5520\n",
      "problemId: 3745, title: 오름세, category: binary_search/lis, level: 14, Similarity: 0.5491\n",
      "problemId: 16639, title: 괄호 추가하기 3, category: dp, level: 15, Similarity: 0.5441\n",
      "problemId: 1795, title: 마알, category: bfs/graph_traversal/graphs/implementation, level: 13, Similarity: 0.5252\n",
      "problemId: 3747, title: 완벽한 선거!, category: 2_sat/graphs/scc, level: 17, Similarity: 0.4987\n",
      "\n",
      "user hja5432\n",
      "problemId: 5920, title: Cow Photography, category: sorting, level: 16, Similarity: 0.5309\n",
      "problemId: 23832, title: 서로소 그래프, category: euler_phi/math/number_theory, level: 15, Similarity: 0.5018\n",
      "problemId: 16766, title: Convention, category: binary_search/parametric_search, level: 12, Similarity: 0.4766\n",
      "problemId: 2568, title: 전깃줄 - 2, category: lis, level: 16, Similarity: 0.4739\n",
      "problemId: 14740, title: Highway Track, category: prefix_sum, level: 15, Similarity: 0.4635\n",
      "\n",
      "user jhnan917\n",
      "problemId: 17033, title: Cow Land, category: data_structures/hld/segtree/trees, level: 20, Similarity: 0.6309\n",
      "problemId: 3079, title: 입국심사, category: binary_search/parametric_search, level: 11, Similarity: 0.4743\n",
      "problemId: 2195, title: 문자열 복사, category: greedy/string, level: 12, Similarity: 0.4585\n",
      "problemId: 15747, title: Taming the Herd, category: dp, level: 16, Similarity: 0.4464\n",
      "problemId: 12793, title: 블록 게임, category: graph_traversal/graphs/implementation, level: 14, Similarity: 0.4455\n",
      "\n",
      "user siontama\n",
      "problemId: 2482, title: 색상환, category: dp, level: 12, Similarity: 0.5380\n",
      "problemId: 1796, title: 신기한 키보드, category: dp, level: 11, Similarity: 0.5179\n",
      "problemId: 2098, title: 외판원 순회, category: bitmask/dp/dp_bitfield/tsp, level: 15, Similarity: 0.4874\n",
      "problemId: 2240, title: 자두나무, category: dp, level: 11, Similarity: 0.4871\n",
      "problemId: 4256, title: 트리, category: divide_and_conquer/recursion/trees, level: 13, Similarity: 0.4870\n",
      "\n",
      "user wjd2632\n",
      "problemId: 1257, title: 엄청난 부자, category: dijkstra/dp/graphs/math, level: 20, Similarity: 0.4731\n",
      "problemId: 1516, title: 게임 개발, category: dp/graphs/topological_sorting, level: 13, Similarity: 0.4708\n",
      "problemId: 22954, title: 그래프 트리 분할, category: case_work/constructive/data_structures/disjoint_set/graph_traversal/graphs/implementation/trees, level: 14, Similarity: 0.4583\n",
      "problemId: 1647, title: 도시 분할 계획, category: graphs/mst, level: 12, Similarity: 0.4480\n",
      "problemId: 17407, title: 괄호 문자열과 쿼리, category: data_structures/lazyprop/segtree, level: 19, Similarity: 0.4459\n",
      "\n",
      "user woongseob12\n",
      "problemId: 17299, title: 오등큰수, category: data_structures/stack, level: 13, Similarity: 0.5365\n",
      "problemId: 1967, title: 트리의 지름, category: dfs/graph_traversal/graphs/trees, level: 12, Similarity: 0.5311\n",
      "problemId: 10942, title: 팰린드롬?, category: dp, level: 13, Similarity: 0.5148\n",
      "problemId: 14466, title: 소가 길을 건너간 이유 6, category: bfs/graph_traversal/graphs, level: 12, Similarity: 0.5117\n",
      "problemId: 2104, title: 부분배열 고르기, category: data_structures/divide_and_conquer/segtree/stack, level: 16, Similarity: 0.4996\n",
      "\n",
      "user deserve82\n",
      "problemId: 23074, title: 자연수 색칠하기 2, category: constructive/math/number_theory, level: 15, Similarity: 0.6273\n",
      "problemId: 15789, title: CTP 왕국은 한솔 왕국을 이길 수 있을까?, category: data_structures/disjoint_set/graph_traversal/graphs/greedy/sorting, level: 12, Similarity: 0.5513\n",
      "problemId: 3101, title: 토끼의 이동, category: implementation/math, level: 14, Similarity: 0.5268\n",
      "problemId: 2357, title: 최솟값과 최댓값, category: data_structures/segtree, level: 15, Similarity: 0.5181\n",
      "problemId: 2023, title: 신기한 소수, category: backtracking/math/number_theory/primality_test, level: 11, Similarity: 0.4908\n",
      "\n",
      "user jeonyj1020\n",
      "problemId: 2453, title: 부서 배치, category: data_structures/dfs/disjoint_set/dp/graph_traversal/graphs, level: 19, Similarity: 0.5925\n",
      "problemId: 2662, title: 기업투자, category: dp/knapsack, level: 13, Similarity: 0.5710\n",
      "problemId: 23178, title: Organizing Beads, category: data_structures/greedy/tree_set, level: 12, Similarity: 0.5282\n",
      "problemId: 15352, title: 욱제와 그의 팬들, category: data_structures/disjoint_set, level: 18, Similarity: 0.5049\n",
      "problemId: 10427, title: 빚, category: greedy/prefix_sum/sorting, level: 11, Similarity: 0.4722\n",
      "\n",
      "user ljoghe\n",
      "problemId: 2493, title: 탑, category: data_structures/stack, level: 11, Similarity: 0.5891\n",
      "problemId: 1396, title: 크루스칼의 공, category: binary_search/data_structures/disjoint_set/graphs/lca/mst/pbs/trees, level: 20, Similarity: 0.4940\n",
      "problemId: 2637, title: 장난감 조립, category: dp/graphs/topological_sorting, level: 14, Similarity: 0.4830\n",
      "problemId: 9489, title: 사촌, category: trees, level: 12, Similarity: 0.4715\n",
      "problemId: 12008, title: 262144, category: data_structures/dp/sparse_table, level: 19, Similarity: 0.4653\n",
      "\n",
      "user overwatcher123\n",
      "problemId: 12116, title: Uzastopni, category: math, level: 12, Similarity: 0.6152\n",
      "problemId: 23829, title: 인문예술탐사주간, category: binary_search/prefix_sum, level: 12, Similarity: 0.5164\n",
      "problemId: 2862, title: 수학 게임, category: dp/game_theory/math, level: 20, Similarity: 0.4985\n",
      "problemId: 10919, title: 선물상자, category: dp/greedy, level: 19, Similarity: 0.4810\n",
      "problemId: 1048, title: 유니콘, category: dp/prefix_sum, level: 17, Similarity: 0.4782\n",
      "\n",
      "user rlwjd4177\n",
      "problemId: 20505, title: John's Math Problem, category: combinatorics/math, level: 15, Similarity: 0.5928\n",
      "problemId: 5901, title: Relocation, category: bruteforcing/dijkstra/graphs, level: 15, Similarity: 0.5838\n",
      "problemId: 12969, title: ABC, category: dp, level: 15, Similarity: 0.5681\n",
      "problemId: 13422, title: 도둑, category: two_pointer, level: 12, Similarity: 0.5454\n",
      "problemId: 8903, title: 장비, category: bitmask/bruteforcing/case_work, level: 18, Similarity: 0.5154\n",
      "\n",
      "user sandlekang\n",
      "problemId: 2448, title: 별 찍기 - 11, category: recursion, level: 12, Similarity: 0.4955\n",
      "problemId: 3075, title: Astromeeting, category: floyd_warshall/graph_traversal/graphs, level: 13, Similarity: 0.4672\n",
      "problemId: 11066, title: 파일 합치기, category: dp, level: 13, Similarity: 0.4572\n",
      "problemId: 17134, title: 르모앙의 추측, category: fft/math/number_theory/primality_test/sieve, level: 20, Similarity: 0.4513\n",
      "problemId: 1574, title: 룩 어택, category: bipartite_matching, level: 17, Similarity: 0.4482\n",
      "\n",
      "user whdauddbs\n",
      "problemId: 3779, title: 주기, category: kmp/string, level: 17, Similarity: 0.5409\n",
      "problemId: 1087, title: 쥐 잡기, category: ternary_search, level: 17, Similarity: 0.5385\n",
      "problemId: 5909, title: Bale Share, category: dp/knapsack, level: 15, Similarity: 0.5206\n",
      "problemId: 5914, title: Cow Photography, category: sorting, level: 16, Similarity: 0.5167\n",
      "problemId: 2450, title: 모양 정돈, category: bruteforcing/greedy/implementation, level: 14, Similarity: 0.5007\n",
      "\n",
      "user an3735297\n",
      "problemId: 11001, title: 김치, category: divide_and_conquer/divide_and_conquer_optimization/dp, level: 20, Similarity: 0.5789\n",
      "problemId: 22991, title: 수요응답형 버스, category: data_structures/greedy/sorting/sweeping/tree_set, level: 16, Similarity: 0.5100\n",
      "problemId: 11994, title: Circular Barn Revisited, category: dp, level: 16, Similarity: 0.4927\n",
      "problemId: 21233, title: Year of the Cow, category: greedy/sorting, level: 13, Similarity: 0.4825\n",
      "problemId: 2157, title: 여행, category: dp, level: 12, Similarity: 0.4655\n",
      "\n",
      "user ensia96\n",
      "problemId: 11694, title: 님 게임, category: game_theory/sprague_grundy, level: 18, Similarity: 0.5344\n",
      "problemId: 13561, title: House Rental, category: binary_search/parametric_search/sweeping/two_pointer, level: 16, Similarity: 0.5068\n",
      "problemId: 20670, title: 미스테리 싸인, category: binary_search/geometry/point_in_convex_polygon, level: 18, Similarity: 0.4526\n",
      "problemId: 8214, title: Party, category: ad_hoc/constructive/graphs, level: 18, Similarity: 0.4342\n",
      "problemId: 9029, title: 정육면체, category: dp, level: 14, Similarity: 0.4193\n",
      "\n",
      "user c4big\n"
     ]
    },
    {
     "name": "stdout",
     "output_type": "stream",
     "text": [
      "problemId: 5896, title: 효율적으로 소 사기, category: data_structures/greedy/priority_queue, level: 17, Similarity: 0.5356\n",
      "problemId: 1728, title: 구슬 굴리기, category: binary_search/bruteforcing/math, level: 16, Similarity: 0.5205\n",
      "problemId: 5624, title: 좋은 수, category: dp, level: 13, Similarity: 0.4585\n",
      "problemId: 3066, title: 브리징 시그널, category: binary_search/lis, level: 14, Similarity: 0.4574\n",
      "problemId: 10747, title: Censoring, category: hashing/kmp/string, level: 18, Similarity: 0.4186\n",
      "\n",
      "user dozzing729\n",
      "problemId: 19566, title: 수열의 구간 평균, category: data_structures/prefix_sum/tree_set, level: 14, Similarity: 0.5249\n",
      "problemId: 4386, title: 별자리 만들기, category: graphs/mst, level: 12, Similarity: 0.5150\n",
      "problemId: 19644, title: 좀비 떼가 기관총 진지에도 오다니, category: data_structures/greedy/prefix_sum/queue, level: 13, Similarity: 0.5000\n",
      "problemId: 17178, title: 줄서기, category: data_structures/implementation/simulation/stack, level: 11, Similarity: 0.4655\n",
      "problemId: 18407, title: 가로 블록 쌓기, category: coordinate_compression/data_structures/lazyprop/segtree, level: 18, Similarity: 0.4641\n",
      "\n",
      "user hsunj2003\n",
      "problemId: 19544, title: 함수 복원, category: combinatorics/graphs/math, level: 16, Similarity: 0.7115\n",
      "problemId: 13325, title: 이진 트리, category: dp/dp_tree/trees, level: 12, Similarity: 0.6090\n",
      "problemId: 4002, title: 닌자배치, category: data_structures/priority_queue/smaller_to_larger/trees, level: 20, Similarity: 0.5220\n",
      "problemId: 1688, title: 지민이의 테러, category: geometry/line_intersection/point_in_non_convex_polygon, level: 16, Similarity: 0.5086\n",
      "problemId: 12880, title: 그래프 차이 최소, category: binary_search/graphs/scc/two_pointer, level: 17, Similarity: 0.5084\n",
      "\n",
      "user object1997\n",
      "problemId: 13312, title: 아크코사인은 믿음입니다, category: constructive, level: 12, Similarity: 0.6506\n",
      "problemId: 13034, title: 다각형 게임, category: game_theory/sprague_grundy, level: 18, Similarity: 0.5993\n",
      "problemId: 3860, title: 할로윈 묘지, category: bellman_ford/graphs, level: 16, Similarity: 0.5583\n",
      "problemId: 17135, title: 캐슬 디펜스, category: bruteforcing/graphs/implementation/simulation, level: 12, Similarity: 0.5268\n",
      "problemId: 7574, title: 개구리, category: data_structures/graph_traversal/graphs/segtree/sweeping, level: 19, Similarity: 0.4716\n",
      "\n",
      "user qye5856\n",
      "problemId: 14217, title: 그래프 탐색, category: bfs/graph_traversal/graphs, level: 11, Similarity: 0.6427\n",
      "problemId: 1657, title: 두부장수 장홍준, category: bitmask/dp/dp_bitfield, level: 18, Similarity: 0.5129\n",
      "problemId: 9010, title: Möbius Strip, category: math, level: 13, Similarity: 0.4661\n",
      "problemId: 1796, title: 신기한 키보드, category: dp, level: 11, Similarity: 0.4647\n",
      "problemId: 12019, title: 동아리방 청소!, category: dp, level: 15, Similarity: 0.4620\n",
      "\n",
      "user jayjangjooho\n",
      "problemId: 2499, title: 의좋은 형제, category: dp/knapsack, level: 15, Similarity: 0.5846\n",
      "problemId: 23074, title: 자연수 색칠하기 2, category: constructive/math/number_theory, level: 15, Similarity: 0.5819\n",
      "problemId: 14552, title: Mahjong, category: bruteforcing/implementation, level: 13, Similarity: 0.5540\n",
      "problemId: 2528, title: 사다리, category: implementation/math/simulation, level: 13, Similarity: 0.4977\n",
      "problemId: 20337, title: Incomplete Sort, category: constructive/sorting, level: 16, Similarity: 0.4969\n",
      "\n",
      "user kangjoseph90\n",
      "problemId: 17965, title: Absolute Game, category: game_theory, level: 15, Similarity: 0.5981\n",
      "problemId: 7682, title: 틱택토, category: implementation, level: 11, Similarity: 0.5759\n",
      "problemId: 19953, title: 영재의 산책, category: math/number_theory, level: 12, Similarity: 0.5576\n",
      "problemId: 3482, title: Labyrinth, category: dfs/graph_traversal/graphs/trees, level: 14, Similarity: 0.4902\n",
      "problemId: 5577, title: RBY팡!, category: implementation/simulation, level: 15, Similarity: 0.4758\n",
      "\n",
      "user nw4611\n",
      "problemId: 11861, title: Maximal Area, category: data_structures/divide_and_conquer/segtree/stack, level: 16, Similarity: 0.5303\n",
      "problemId: 13258, title: 복권 + 은행, category: dp, level: 13, Similarity: 0.5116\n",
      "problemId: 2096, title: 내려가기, category: dp/sliding_window, level: 12, Similarity: 0.4949\n",
      "problemId: 1430, title: 공격, category: bfs/geometry/graph_traversal/graphs, level: 12, Similarity: 0.4879\n",
      "problemId: 16932, title: 모양 만들기, category: bfs/bruteforcing/dfs/graph_traversal/graphs, level: 12, Similarity: 0.4673\n",
      "\n",
      "user 2556\n",
      "problemId: 19581, title: 두 번째 트리의 지름, category: graph_traversal/graphs/trees, level: 15, Similarity: 0.5922\n",
      "problemId: 1344, title: 축구, category: combinatorics/dp/math/probability, level: 12, Similarity: 0.5353\n",
      "problemId: 2819, title: 상근이의 로봇, category: binary_search/prefix_sum, level: 14, Similarity: 0.5133\n",
      "problemId: 1184, title: 귀농, category: bruteforcing/data_structures/dp/hash_set/prefix_sum, level: 16, Similarity: 0.4911\n",
      "problemId: 13209, title: 검역소, category: binary_search/dp/dp_tree/graphs/greedy/trees, level: 18, Similarity: 0.4750\n",
      "\n",
      "user as00098\n",
      "problemId: 14288, title: 회사 문화 4, category: data_structures/euler_tour_technique/graph_traversal/graphs/lazyprop/segtree/trees, level: 18, Similarity: 0.5558\n",
      "problemId: 20305, title: 피보나치와 수열과 쿼리, category: dp/offline_queries/prefix_sum/sweeping, level: 17, Similarity: 0.5395\n",
      "problemId: 2886, title: 자리 전쟁, category: greedy/implementation/sorting, level: 15, Similarity: 0.4916\n",
      "problemId: 2115, title: 갤러리, category: implementation/string, level: 11, Similarity: 0.4906\n",
      "problemId: 10772, title: π-day, category: dp, level: 11, Similarity: 0.4878\n",
      "\n",
      "user chad6027\n",
      "problemId: 13349, title: Millionaire Madness, category: dijkstra/graphs, level: 12, Similarity: 0.5286\n",
      "problemId: 2226, title: 이진수, category: arbitrary_precision/dp/math, level: 12, Similarity: 0.5009\n",
      "problemId: 2671, title: 잠수함식별, category: regex/string, level: 11, Similarity: 0.4875\n",
      "problemId: 11525, title: Farey Sequence Length, category: euler_phi/math/number_theory/prefix_sum, level: 15, Similarity: 0.4775\n",
      "problemId: 2733, title: Brainf*ck, category: data_structures/implementation/simulation/stack, level: 13, Similarity: 0.4712\n",
      "\n",
      "user geon0407\n",
      "problemId: 2728, title: 오늘은 마가리타 한 잔?, category: dp, level: 16, Similarity: 0.5472\n",
      "problemId: 15718, title: 돌아온 떡파이어, category: combinatorics/crt/lucas/math/number_theory, level: 18, Similarity: 0.5296\n",
      "problemId: 20005, title: 보스몬스터 전리품, category: bfs/graph_traversal/graphs/implementation/simulation, level: 13, Similarity: 0.5189\n",
      "problemId: 19950, title: 3차원 막대기 연결하기, category: geometry/geometry_3d/greedy, level: 11, Similarity: 0.4995\n",
      "problemId: 2825, title: 수업시간에 교수님 몰래 교실을 나간 상근이, category: bitmask/math, level: 14, Similarity: 0.4940\n",
      "\n",
      "user logeon0725\n",
      "problemId: 2357, title: 최솟값과 최댓값, category: data_structures/segtree, level: 15, Similarity: 0.5249\n",
      "problemId: 13398, title: 연속합 2, category: dp, level: 11, Similarity: 0.5156\n",
      "problemId: 2099, title: The game of death, category: exponentiation_by_squaring/graphs/math, level: 15, Similarity: 0.5017\n",
      "problemId: 2528, title: 사다리, category: implementation/math/simulation, level: 13, Similarity: 0.4698\n",
      "problemId: 11883, title: 생일수 I, category: dp/greedy, level: 13, Similarity: 0.4451\n",
      "\n",
      "user ten_ability\n",
      "problemId: 15709, title: 정기검진, category: dijkstra/graphs, level: 16, Similarity: 0.5074\n",
      "problemId: 2749, title: 피보나치 수 3, category: exponentiation_by_squaring/math, level: 14, Similarity: 0.4815\n",
      "problemId: 12746, title: Traffic (Large), category: lca/prefix_sum/trees, level: 19, Similarity: 0.4541\n",
      "problemId: 23295, title: 스터디 시간 정하기 1, category: prefix_sum/sweeping, level: 13, Similarity: 0.4357\n",
      "problemId: 5582, title: 공통 부분 문자열, category: dp/string, level: 11, Similarity: 0.4272\n",
      "\n",
      "user thoughtman2\n",
      "problemId: 18769, title: 그리드 네트워크, category: graphs/mst, level: 12, Similarity: 0.5217\n",
      "problemId: 14673, title: Crush Fever, category: backtracking/bfs/bruteforcing/dfs/graph_traversal/graphs/implementation, level: 13, Similarity: 0.5066\n",
      "problemId: 3300, title: 무어 기계, category: parsing/regex/string, level: 14, Similarity: 0.4884\n",
      "problemId: 7977, title: 크리스 마틴, category: constructive/greedy, level: 13, Similarity: 0.4872\n",
      "problemId: 18224, title: 미로에 갇힌 건우, category: bfs/graph_traversal/graphs, level: 15, Similarity: 0.4852\n",
      "\n",
      "user thsgustlr0318\n",
      "problemId: 15480, title: LCA와 쿼리, category: lca/trees, level: 19, Similarity: 0.5347\n",
      "problemId: 10711, title: 모래성, category: bfs/graph_traversal/graphs, level: 13, Similarity: 0.5133\n",
      "problemId: 2933, title: 미네랄, category: bfs/dfs/graph_traversal/graphs/implementation/simulation, level: 14, Similarity: 0.5032\n",
      "problemId: 1441, title: 나누어 질까, category: euclidean/inclusion_and_exclusion/math/number_theory, level: 16, Similarity: 0.4989\n",
      "problemId: 16927, title: 배열 돌리기 2, category: implementation, level: 11, Similarity: 0.4849\n",
      "\n",
      "user wuppu13579\n"
     ]
    },
    {
     "name": "stdout",
     "output_type": "stream",
     "text": [
      "problemId: 15938, title: 더위 피하기, category: dp, level: 13, Similarity: 0.5134\n",
      "problemId: 2463, title: 비용, category: data_structures/disjoint_set, level: 16, Similarity: 0.5079\n",
      "problemId: 20007, title: 떡 돌리기, category: dijkstra/graphs, level: 12, Similarity: 0.4811\n",
      "problemId: 4256, title: 트리, category: divide_and_conquer/recursion/trees, level: 13, Similarity: 0.4772\n",
      "problemId: 13144, title: List of Unique Numbers, category: two_pointer, level: 12, Similarity: 0.4749\n",
      "\n",
      "user potion\n",
      "problemId: 14897, title: 서로 다른 수와 쿼리 1, category: coordinate_compression/data_structures/mo/offline_queries/segtree, level: 19, Similarity: 0.5740\n",
      "problemId: 1662, title: 압축, category: data_structures/recursion/stack, level: 11, Similarity: 0.5375\n",
      "problemId: 11402, title: 이항 계수 4, category: combinatorics/dp/lucas/math/number_theory, level: 16, Similarity: 0.5195\n",
      "problemId: 13418, title: 학교 탐방하기, category: graphs/mst, level: 13, Similarity: 0.5063\n",
      "problemId: 12438, title: 새로운 달력 (Large), category: math/number_theory, level: 11, Similarity: 0.4889\n",
      "\n",
      "user somin05314\n",
      "problemId: 1202, title: 보석 도둑, category: data_structures/greedy/priority_queue/sorting, level: 14, Similarity: 0.6279\n",
      "problemId: 2449, title: 전구, category: dp, level: 17, Similarity: 0.5539\n",
      "problemId: 9202, title: Boggle, category: backtracking/bruteforcing/data_structures/dfs/graph_traversal/graphs/string/trees/trie, level: 16, Similarity: 0.5030\n",
      "problemId: 19700, title: 수업, category: data_structures/greedy/tree_set, level: 15, Similarity: 0.4930\n",
      "problemId: 11084, title: 나이트의 염탐, category: bfs/dp/graph_traversal/graphs, level: 13, Similarity: 0.4879\n",
      "\n",
      "user yomyom0824\n",
      "problemId: 14677, title: 병약한 윤호, category: bfs/dp/graph_traversal/graphs, level: 11, Similarity: 0.5367\n",
      "problemId: 20928, title: 걷는 건 귀찮아, category: greedy, level: 12, Similarity: 0.5313\n",
      "problemId: 1833, title: 고속철도 설계하기, category: graphs/mst, level: 13, Similarity: 0.4882\n",
      "problemId: 9998, title: 블록 쌓기, category: binary_search/ternary_search, level: 13, Similarity: 0.4770\n",
      "problemId: 2133, title: 타일 채우기, category: dp, level: 11, Similarity: 0.4762\n",
      "\n",
      "user enil\n",
      "problemId: 13269, title: 쌓기나무, category: greedy/implementation, level: 12, Similarity: 0.5779\n",
      "problemId: 15569, title: 블록 1, category: dp, level: 13, Similarity: 0.5130\n",
      "problemId: 2749, title: 피보나치 수 3, category: exponentiation_by_squaring/math, level: 14, Similarity: 0.5030\n",
      "problemId: 1958, title: LCS 3, category: dp/string, level: 13, Similarity: 0.4960\n",
      "problemId: 17142, title: 연구소 3, category: bfs/bruteforcing/graph_traversal/graphs, level: 12, Similarity: 0.4826\n",
      "\n",
      "user given_zero\n",
      "problemId: 2836, title: 수상 택시, category: sweeping, level: 13, Similarity: 0.5093\n",
      "problemId: 14003, title: 가장 긴 증가하는 부분 수열 5, category: binary_search/lis, level: 16, Similarity: 0.4757\n",
      "problemId: 11571, title: 분수를 소수로, category: implementation/math, level: 11, Similarity: 0.4421\n",
      "problemId: 2086, title: 피보나치 수의 합, category: exponentiation_by_squaring/math, level: 15, Similarity: 0.4410\n",
      "problemId: 2211, title: 네트워크 복구, category: dijkstra/graphs, level: 14, Similarity: 0.4397\n",
      "\n",
      "user kimdle2\n",
      "problemId: 10827, title: a^b, category: arbitrary_precision/implementation, level: 11, Similarity: 0.5971\n",
      "problemId: 20927, title: Degree Bounded Minimum Spanning Tree, category: backtracking/bruteforcing/data_structures/disjoint_set, level: 15, Similarity: 0.5581\n",
      "problemId: 8944, title: 이진 검색 트리 2, category: combinatorics/math/trees, level: 17, Similarity: 0.5575\n",
      "problemId: 14226, title: 이모티콘, category: bfs/dp/graph_traversal/graphs, level: 11, Similarity: 0.5558\n",
      "problemId: 11402, title: 이항 계수 4, category: combinatorics/dp/lucas/math/number_theory, level: 16, Similarity: 0.5460\n",
      "\n",
      "user lucian0910\n",
      "problemId: 10827, title: a^b, category: arbitrary_precision/implementation, level: 11, Similarity: 0.6150\n",
      "problemId: 14437, title: 준오는 심술쟁이!!, category: dp/inclusion_and_exclusion, level: 13, Similarity: 0.5956\n",
      "problemId: 1602, title: 도망자 원숭이, category: floyd_warshall/graphs, level: 17, Similarity: 0.5877\n",
      "problemId: 7812, title: 중앙 트리, category: dfs/dp/dp_tree/graph_traversal/graphs/trees, level: 16, Similarity: 0.5854\n",
      "problemId: 17070, title: 파이프 옮기기 1, category: dp/graphs, level: 11, Similarity: 0.5684\n",
      "\n",
      "user stlee\n",
      "problemId: 2008, title: 사다리 게임, category: dp, level: 16, Similarity: 0.5589\n",
      "problemId: 2152, title: 여행 계획 세우기, category: dp/graphs/scc/topological_sorting, level: 18, Similarity: 0.5319\n",
      "problemId: 1494, title: 절댓값 수열, category: case_work/math/number_theory, level: 20, Similarity: 0.5277\n",
      "problemId: 1767, title: N-Rook II, category: combinatorics/dp/math, level: 18, Similarity: 0.4998\n",
      "problemId: 17260, title: 계곡이 넘쳐흘러, category: dfs/graph_traversal/graphs, level: 14, Similarity: 0.4934\n",
      "\n",
      "user 31n5ang\n",
      "problemId: 2624, title: 동전 바꿔주기, category: dp, level: 11, Similarity: 0.5096\n",
      "problemId: 18859, title: 부모님께 큰절 하고, category: data_structures/greedy/sorting, level: 17, Similarity: 0.4804\n",
      "problemId: 2759, title: 팬케이크 뒤집기, category: constructive/greedy, level: 12, Similarity: 0.4472\n",
      "problemId: 16879, title: 궁전 게임, category: game_theory/sprague_grundy, level: 20, Similarity: 0.4430\n",
      "problemId: 12916, title: K-Path, category: exponentiation_by_squaring/graphs/math, level: 15, Similarity: 0.4383\n",
      "\n",
      "user ajdxjdrnfl\n",
      "problemId: 3164, title: 패턴, category: math, level: 12, Similarity: 0.5612\n",
      "problemId: 15675, title: 괴도 강산, category: 2_sat/graphs/scc, level: 20, Similarity: 0.5500\n",
      "problemId: 3997, title: 하이퍼드롬, category: bitmask/prefix_sum, level: 14, Similarity: 0.5463\n",
      "problemId: 5076, title: Web Pages, category: data_structures/parsing/stack/string, level: 12, Similarity: 0.5419\n",
      "problemId: 1662, title: 압축, category: data_structures/recursion/stack, level: 11, Similarity: 0.5253\n",
      "\n",
      "user als982001\n",
      "problemId: 5972, title: 택배 배송, category: dijkstra/graphs, level: 11, Similarity: 0.6653\n",
      "problemId: 5060, title: 무글 맵스, category: dp, level: 13, Similarity: 0.5924\n",
      "problemId: 17135, title: 캐슬 디펜스, category: bruteforcing/graphs/implementation/simulation, level: 12, Similarity: 0.5793\n",
      "problemId: 17454, title: 갓, category: math, level: 14, Similarity: 0.5748\n",
      "problemId: 12004, title: Closing the Farm (Silver), category: data_structures/disjoint_set/graph_traversal/graphs, level: 12, Similarity: 0.5577\n",
      "\n",
      "user baby_ohgu\n"
     ]
    },
    {
     "ename": "KeyboardInterrupt",
     "evalue": "",
     "output_type": "error",
     "traceback": [
      "\u001b[1;31m---------------------------------------------------------------------------\u001b[0m",
      "\u001b[1;31mKeyboardInterrupt\u001b[0m                         Traceback (most recent call last)",
      "\u001b[1;32m~\\AppData\\Local\\Temp\\ipykernel_2792\\4141206724.py\u001b[0m in \u001b[0;36m<module>\u001b[1;34m\u001b[0m\n\u001b[0;32m      3\u001b[0m \u001b[0mrecommend_count\u001b[0m \u001b[1;33m=\u001b[0m \u001b[1;36m5\u001b[0m\u001b[1;33m\u001b[0m\u001b[1;33m\u001b[0m\u001b[0m\n\u001b[0;32m      4\u001b[0m \u001b[1;32mfor\u001b[0m \u001b[0mi\u001b[0m \u001b[1;32min\u001b[0m \u001b[0musers\u001b[0m\u001b[1;33m.\u001b[0m\u001b[0mkeys\u001b[0m\u001b[1;33m(\u001b[0m\u001b[1;33m)\u001b[0m\u001b[1;33m:\u001b[0m\u001b[1;33m\u001b[0m\u001b[1;33m\u001b[0m\u001b[0m\n\u001b[1;32m----> 5\u001b[1;33m     \u001b[0mrecommend\u001b[0m\u001b[1;33m[\u001b[0m\u001b[0mi\u001b[0m\u001b[1;33m]\u001b[0m \u001b[1;33m=\u001b[0m \u001b[0mrecommendProblem\u001b[0m\u001b[1;33m(\u001b[0m\u001b[0mi\u001b[0m\u001b[1;33m,\u001b[0m \u001b[0muser_embedding\u001b[0m\u001b[1;33m,\u001b[0m \u001b[0mproblem_embedding\u001b[0m\u001b[1;33m,\u001b[0m \u001b[0musers\u001b[0m\u001b[1;33m[\u001b[0m\u001b[0mi\u001b[0m\u001b[1;33m]\u001b[0m\u001b[1;33m,\u001b[0m \u001b[0mrecommend_count\u001b[0m\u001b[1;33m)\u001b[0m\u001b[1;33m\u001b[0m\u001b[1;33m\u001b[0m\u001b[0m\n\u001b[0m",
      "\u001b[1;32m~\\AppData\\Local\\Temp\\ipykernel_2792\\398236817.py\u001b[0m in \u001b[0;36mrecommendProblem\u001b[1;34m(user_id, user_embedding, problem_embedding, problem_list, recommend_count)\u001b[0m\n\u001b[0;32m      7\u001b[0m         \u001b[1;32mif\u001b[0m \u001b[1;32mnot\u001b[0m \u001b[0mi\u001b[0m \u001b[1;32min\u001b[0m \u001b[0mproblem_list\u001b[0m\u001b[1;33m:\u001b[0m\u001b[1;33m\u001b[0m\u001b[1;33m\u001b[0m\u001b[0m\n\u001b[0;32m      8\u001b[0m             \u001b[0mres\u001b[0m\u001b[1;33m.\u001b[0m\u001b[0mappend\u001b[0m\u001b[1;33m(\u001b[0m\u001b[1;33m(\u001b[0m\u001b[0mcos\u001b[0m\u001b[1;33m(\u001b[0m\u001b[0mproblem_embedding\u001b[0m\u001b[1;33m[\u001b[0m\u001b[0mi\u001b[0m\u001b[1;33m]\u001b[0m\u001b[1;33m,\u001b[0m \u001b[0muser_embedding\u001b[0m\u001b[1;33m[\u001b[0m\u001b[0muser_id\u001b[0m\u001b[1;33m]\u001b[0m\u001b[1;33m)\u001b[0m\u001b[1;33m,\u001b[0m \u001b[0mi\u001b[0m\u001b[1;33m,\u001b[0m \u001b[0mproblem_info\u001b[0m\u001b[1;33m[\u001b[0m\u001b[0mi\u001b[0m\u001b[1;33m]\u001b[0m\u001b[1;33m[\u001b[0m\u001b[1;36m0\u001b[0m\u001b[1;33m]\u001b[0m\u001b[1;33m,\u001b[0m \u001b[0mproblem_info\u001b[0m\u001b[1;33m[\u001b[0m\u001b[0mi\u001b[0m\u001b[1;33m]\u001b[0m\u001b[1;33m[\u001b[0m\u001b[1;36m1\u001b[0m\u001b[1;33m]\u001b[0m\u001b[1;33m,\u001b[0m \u001b[0mproblem_info\u001b[0m\u001b[1;33m[\u001b[0m\u001b[0mi\u001b[0m\u001b[1;33m]\u001b[0m\u001b[1;33m[\u001b[0m\u001b[1;36m2\u001b[0m\u001b[1;33m]\u001b[0m\u001b[1;33m)\u001b[0m\u001b[1;33m)\u001b[0m\u001b[1;33m\u001b[0m\u001b[1;33m\u001b[0m\u001b[0m\n\u001b[1;32m----> 9\u001b[1;33m     \u001b[0mres\u001b[0m \u001b[1;33m=\u001b[0m \u001b[0msorted\u001b[0m\u001b[1;33m(\u001b[0m\u001b[0mres\u001b[0m\u001b[1;33m,\u001b[0m \u001b[0mreverse\u001b[0m\u001b[1;33m=\u001b[0m\u001b[1;32mTrue\u001b[0m\u001b[1;33m)\u001b[0m\u001b[1;33m[\u001b[0m\u001b[1;36m0\u001b[0m\u001b[1;33m:\u001b[0m\u001b[0mrecommend_count\u001b[0m\u001b[1;33m]\u001b[0m\u001b[1;33m\u001b[0m\u001b[1;33m\u001b[0m\u001b[0m\n\u001b[0m\u001b[0;32m     10\u001b[0m \u001b[1;33m\u001b[0m\u001b[0m\n\u001b[0;32m     11\u001b[0m     \u001b[0mlength\u001b[0m \u001b[1;33m=\u001b[0m \u001b[0mrecommend_count\u001b[0m \u001b[1;32mif\u001b[0m \u001b[0mlen\u001b[0m\u001b[1;33m(\u001b[0m\u001b[0mres\u001b[0m\u001b[1;33m)\u001b[0m \u001b[1;33m>\u001b[0m \u001b[0mrecommend_count\u001b[0m \u001b[1;32melse\u001b[0m \u001b[0mlen\u001b[0m\u001b[1;33m(\u001b[0m\u001b[0mres\u001b[0m\u001b[1;33m)\u001b[0m\u001b[1;33m\u001b[0m\u001b[1;33m\u001b[0m\u001b[0m\n",
      "\u001b[1;31mKeyboardInterrupt\u001b[0m: "
     ]
    }
   ],
   "source": [
    "#문제 embedding과 유사도 계산 및 추천\n",
    "recommend = dict()\n",
    "recommend_count = 5\n",
    "for i in users.keys():\n",
    "    recommend[i] = recommendProblem(i, user_embedding, problem_embedding, users[i], recommend_count)"
   ]
  },
  {
   "cell_type": "markdown",
   "metadata": {},
   "source": [
    "11056번 문제는 sos0911 사용자가 풀어보지 않은 문제"
   ]
  },
  {
   "cell_type": "code",
   "execution_count": null,
   "metadata": {},
   "outputs": [],
   "source": []
  }
 ],
 "metadata": {
  "colab": {
   "collapsed_sections": [],
   "name": "과제2_2016_이은현.ipynb",
   "provenance": []
  },
  "kernelspec": {
   "display_name": "Python 3 (ipykernel)",
   "language": "python",
   "name": "python3"
  },
  "language_info": {
   "codemirror_mode": {
    "name": "ipython",
    "version": 3
   },
   "file_extension": ".py",
   "mimetype": "text/x-python",
   "name": "python",
   "nbconvert_exporter": "python",
   "pygments_lexer": "ipython3",
   "version": "3.7.11"
  }
 },
 "nbformat": 4,
 "nbformat_minor": 1
}
